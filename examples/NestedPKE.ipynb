{
 "cells": [
  {
   "cell_type": "markdown",
   "id": "e587a4b5-ad99-4420-86d0-e25a62e474c6",
   "metadata": {},
   "source": [
    "# NestedPKE"
   ]
  },
  {
   "cell_type": "markdown",
   "id": "dfde3fc5-ba04-4ebd-a48d-374e4577f6b9",
   "metadata": {},
   "source": [
    "## Introduction\n",
    "\n",
    "This is a public key encryption scheme where the message is encrypted under one PKE scheme, then that ciphertext is encrypted under a second PKE scheme; the resulting scheme is secure if either of the two PKE schemes is. \n",
    "\n",
    "This example actually contains two proofs of IND-CPA security:\n",
    "\n",
    "- The first proof assumes security of the inner PKE scheme. This proof is extremely simple and consists of a single game hop based on the indistinguishability of the inner PKE scheme. This is an example of an *indistinguishability proof step* and shows how to use a reduction to an indistinguishability property to relate two games.\n",
    "- The second proof assumes security of the outer PKE scheme. This proof introduces *rewriting proof steps*, which are needed to make use of certain facts known to the cryptographer but not encoded in the formalism (e.g., that two messages of the same length encrypt to two ciphertexts of the same length"
   ]
  },
  {
   "cell_type": "markdown",
   "id": "c6b4150f-e042-4791-b92d-52e962e31e3b",
   "metadata": {},
   "source": [
    "## Defining NestedPKE\n",
    "\n",
    "First we will give the specification of the NestedPKE scheme, constructed from two generic PKE schemes.\n",
    "\n",
    "To get started, we have to import the other Python packages that our example depends on. The imports from `typing` are used in the type annotations."
   ]
  },
  {
   "cell_type": "code",
   "execution_count": 1,
   "id": "073001b9-b5a5-4abd-9d40-0ca3495797b8",
   "metadata": {},
   "outputs": [],
   "source": [
    "from typing import cast, Tuple, Union\n",
    "\n",
    "from gamehop.primitives import Crypto, PKE\n",
    "from gamehop.primitives.PKE import PKEScheme\n",
    "import gamehop.inlining\n",
    "import gamehop.verification"
   ]
  },
  {
   "cell_type": "markdown",
   "id": "e15087e0-c9bd-4b25-ade6-3cfaa3d464b7",
   "metadata": {},
   "source": [
    "Next we declare the two PKE schemes that we will generically use to build NestedPKE."
   ]
  },
  {
   "cell_type": "code",
   "execution_count": 2,
   "id": "2ce7e077-c12e-486c-9d25-ae9d5fef2796",
   "metadata": {},
   "outputs": [],
   "source": [
    "class PKE1(PKEScheme): pass\n",
    "class PKE2(PKEScheme): pass"
   ]
  },
  {
   "cell_type": "markdown",
   "id": "2348e756-833d-43c1-a2a1-424dafb14b99",
   "metadata": {},
   "source": [
    "Now we give the main definition of the NestedPKE scheme.\n",
    "\n",
    "As for all public key encryption schemes (which are descendents of the `gamehop.primitives.pke.PKEScheme` class) we have to define classes representing public keys, secret keys, ciphertexts, and messages, as well as the three main operations: key generation, encryption, and decryption.\n",
    "\n",
    "For the public key and secret key, we give explicit classes that build a compound public key / secret key from the two public keys / secret keys of the underlying PKE schemes.  For the ciphertext and message, we don't give explicit constructors. Instead, in the encryption and decryption procedures, we will cast to the required type; this models treating a PKE1 ciphertext as a PKE2 message, and treating a PKE2 ciphertext as a NestedPKE ciphertext."
   ]
  },
  {
   "cell_type": "code",
   "execution_count": 3,
   "id": "74949b00-e717-4cd5-b3e7-c48ac4b538cf",
   "metadata": {},
   "outputs": [],
   "source": [
    "class NestedPKE(PKEScheme):\n",
    "    \n",
    "    class PublicKey(PKEScheme.PublicKey):\n",
    "        def __init__(self, pk1: PKE1.PublicKey, pk2: PKE2.PublicKey):\n",
    "            self.pk1 = pk1\n",
    "            self.pk2 = pk2\n",
    "            \n",
    "    class SecretKey(PKEScheme.SecretKey):\n",
    "        def __init__(self, sk1: PKE1.SecretKey, sk2: PKE2.SecretKey):\n",
    "            self.sk1 = sk1\n",
    "            self.sk2 = sk2\n",
    "            \n",
    "    class Ciphertext(PKEScheme.Ciphertext): pass\n",
    "\n",
    "    class Message(PKEScheme.Message): pass\n",
    "\n",
    "    @staticmethod\n",
    "    def KeyGen() -> Tuple[PublicKey, SecretKey]:\n",
    "        (pk1, sk1) = PKE1.KeyGen()\n",
    "        (pk2, sk2) = PKE2.KeyGen()\n",
    "        pkprime = NestedPKE.PublicKey(pk1, pk2)\n",
    "        skprime = NestedPKE.SecretKey(sk1, sk2)\n",
    "        return (pkprime, skprime)\n",
    "    \n",
    "    @staticmethod\n",
    "    def Encrypt(pk: PublicKey, msg: Message) -> Ciphertext: # type: ignore[override]\n",
    "        ct1 = PKE1.Encrypt(pk.pk1, msg)\n",
    "        pt2 = cast(PKE2.Message, ct1)\n",
    "        ct2 = PKE2.Encrypt(pk.pk2, pt2)\n",
    "        ctprime = cast(NestedPKE.Ciphertext, ct2)\n",
    "        return ctprime\n",
    "    \n",
    "    @staticmethod\n",
    "    def Decrypt(sk: SecretKey, ct: Ciphertext) -> Union[Crypto.Reject, Message]: # type: ignore[override]\n",
    "        pt2 = PKE2.Decrypt(sk.sk2, ct)\n",
    "        if pt2 == Crypto.Reject:\n",
    "            r: Union[Crypto.Reject, NestedPKE.Message] = Crypto.Reject()\n",
    "        else:\n",
    "            ct1 = cast(PKE1.Ciphertext, pt2)\n",
    "            pt1 = PKE1.Decrypt(sk.sk1, ct1)\n",
    "            r = cast(NestedPKE.Message, pt1)\n",
    "        return r\n"
   ]
  },
  {
   "cell_type": "markdown",
   "id": "0db05cca-a7cd-488e-b68d-64e5c74aa3e9",
   "metadata": {},
   "source": [
    "## NestedPKE is IND-CPA-secure if PKE1 is IND-CPA-secure\n",
    "\n",
    "Once the proof engine is updated to work with games as classes, we can complete this example.  For now I would like to just print out some of the canonicalizations, such as using the following code block.\n",
    "\n",
    "However, this code block will fail, because apparently `inspect.getsource` doesn't work for things defined within a Jupyter notebook file.  This is really sucky for us.  Lots of people have complained about it, for years, with no progress; there are some hacky solutions, so perhaps we could try modifying our `get_class_def` / `get_function_def` code to use some of those hacks.  It sucks but I think this Jupyter notebook idea is very nice so maybe it's worth trying to hack in.\n",
    "\n",
    "- https://stackoverflow.com/questions/51566497/getting-the-source-of-an-object-defined-in-a-jupyter-notebook\n",
    "- https://github.com/ipython/ipython/issues/11249\n",
    "- https://bugs.python.org/issue33826"
   ]
  },
  {
   "cell_type": "code",
   "execution_count": 4,
   "id": "9b240ae8-5f7d-403e-9a16-bc79d1b1a696",
   "metadata": {},
   "outputs": [
    {
     "ename": "TypeError",
     "evalue": "<class '__main__.NestedPKE'> is a built-in class",
     "output_type": "error",
     "traceback": [
      "\u001b[0;31m---------------------------------------------------------------------------\u001b[0m",
      "\u001b[0;31mTypeError\u001b[0m                                 Traceback (most recent call last)",
      "\u001b[0;32m<ipython-input-4-5de77a49f923>\u001b[0m in \u001b[0;36m<module>\u001b[0;34m\u001b[0m\n\u001b[0;32m----> 1\u001b[0;31m \u001b[0mg0\u001b[0m \u001b[0;34m=\u001b[0m \u001b[0mgamehop\u001b[0m\u001b[0;34m.\u001b[0m\u001b[0minlining\u001b[0m\u001b[0;34m.\u001b[0m\u001b[0minline_scheme_into_game\u001b[0m\u001b[0;34m(\u001b[0m\u001b[0mNestedPKE\u001b[0m\u001b[0;34m,\u001b[0m \u001b[0mPKE\u001b[0m\u001b[0;34m.\u001b[0m\u001b[0mINDCPA\u001b[0m\u001b[0;34m.\u001b[0m\u001b[0mget_left\u001b[0m\u001b[0;34m(\u001b[0m\u001b[0;34m)\u001b[0m\u001b[0;34m)\u001b[0m\u001b[0;34m\u001b[0m\u001b[0;34m\u001b[0m\u001b[0m\n\u001b[0m\u001b[1;32m      2\u001b[0m \u001b[0mprint\u001b[0m\u001b[0;34m(\u001b[0m\u001b[0mg0\u001b[0m\u001b[0;34m)\u001b[0m\u001b[0;34m\u001b[0m\u001b[0;34m\u001b[0m\u001b[0m\n\u001b[1;32m      3\u001b[0m \u001b[0mprint\u001b[0m\u001b[0;34m(\u001b[0m\u001b[0mgamehop\u001b[0m\u001b[0;34m.\u001b[0m\u001b[0mverification\u001b[0m\u001b[0;34m.\u001b[0m\u001b[0mcanonicalize_game\u001b[0m\u001b[0;34m(\u001b[0m\u001b[0mg0\u001b[0m\u001b[0;34m)\u001b[0m\u001b[0;34m)\u001b[0m\u001b[0;34m\u001b[0m\u001b[0;34m\u001b[0m\u001b[0m\n",
      "\u001b[0;32m~/Dev/pygamehop/gamehop/inlining/__init__.py\u001b[0m in \u001b[0;36minline_scheme_into_game\u001b[0;34m(Scheme, Game)\u001b[0m\n\u001b[1;32m    258\u001b[0m             \u001b[0;31m# replace these with \"Scheme.whatever\" so that they can easily be replaced\u001b[0m\u001b[0;34m\u001b[0m\u001b[0;34m\u001b[0m\u001b[0;34m\u001b[0m\u001b[0m\n\u001b[1;32m    259\u001b[0m             \u001b[0mfdef\u001b[0m \u001b[0;34m=\u001b[0m \u001b[0mutils\u001b[0m\u001b[0;34m.\u001b[0m\u001b[0mAttributeNodeReplacer\u001b[0m\u001b[0;34m(\u001b[0m\u001b[0;34m[\u001b[0m\u001b[0;34m'self'\u001b[0m\u001b[0;34m,\u001b[0m \u001b[0;34m'Scheme'\u001b[0m\u001b[0;34m]\u001b[0m\u001b[0;34m,\u001b[0m \u001b[0mScheme\u001b[0m\u001b[0;34m.\u001b[0m\u001b[0m__name__\u001b[0m\u001b[0;34m)\u001b[0m\u001b[0;34m.\u001b[0m\u001b[0mvisit\u001b[0m\u001b[0;34m(\u001b[0m\u001b[0mfdef\u001b[0m\u001b[0;34m)\u001b[0m\u001b[0;34m\u001b[0m\u001b[0;34m\u001b[0m\u001b[0m\n\u001b[0;32m--> 260\u001b[0;31m             \u001b[0mfdef\u001b[0m \u001b[0;34m=\u001b[0m \u001b[0mutils\u001b[0m\u001b[0;34m.\u001b[0m\u001b[0mget_function_def\u001b[0m\u001b[0;34m(\u001b[0m\u001b[0minline_all_static_method_calls\u001b[0m\u001b[0;34m(\u001b[0m\u001b[0mScheme\u001b[0m\u001b[0;34m,\u001b[0m \u001b[0mcast\u001b[0m\u001b[0;34m(\u001b[0m\u001b[0mast\u001b[0m\u001b[0;34m.\u001b[0m\u001b[0mFunctionDef\u001b[0m\u001b[0;34m,\u001b[0m \u001b[0mfdef\u001b[0m\u001b[0;34m)\u001b[0m\u001b[0;34m)\u001b[0m\u001b[0;34m)\u001b[0m\u001b[0;34m\u001b[0m\u001b[0;34m\u001b[0m\u001b[0m\n\u001b[0m\u001b[1;32m    261\u001b[0m             \u001b[0mfdef\u001b[0m \u001b[0;34m=\u001b[0m \u001b[0mutils\u001b[0m\u001b[0;34m.\u001b[0m\u001b[0mget_function_def\u001b[0m\u001b[0;34m(\u001b[0m\u001b[0minline_all_inner_class_init_calls\u001b[0m\u001b[0;34m(\u001b[0m\u001b[0mScheme\u001b[0m\u001b[0;34m,\u001b[0m \u001b[0mcast\u001b[0m\u001b[0;34m(\u001b[0m\u001b[0mast\u001b[0m\u001b[0;34m.\u001b[0m\u001b[0mFunctionDef\u001b[0m\u001b[0;34m,\u001b[0m \u001b[0mfdef\u001b[0m\u001b[0;34m)\u001b[0m\u001b[0;34m)\u001b[0m\u001b[0;34m)\u001b[0m\u001b[0;34m\u001b[0m\u001b[0;34m\u001b[0m\u001b[0m\n\u001b[1;32m    262\u001b[0m             \u001b[0mGame_newbody\u001b[0m\u001b[0;34m.\u001b[0m\u001b[0mappend\u001b[0m\u001b[0;34m(\u001b[0m\u001b[0mfdef\u001b[0m\u001b[0;34m)\u001b[0m\u001b[0;34m\u001b[0m\u001b[0;34m\u001b[0m\u001b[0m\n",
      "\u001b[0;32m~/Dev/pygamehop/gamehop/inlining/__init__.py\u001b[0m in \u001b[0;36minline_all_static_method_calls\u001b[0;34m(c_to_be_inlined, f_dest)\u001b[0m\n\u001b[1;32m    166\u001b[0m     \u001b[0;34m\"\"\"Returns a string representing the provided destination function with all calls to static methods of the given class-to-be-inlined replaced with the body of that function, with arguments to the call appropriately bound and with local variables named unambiguously.\"\"\"\u001b[0m\u001b[0;34m\u001b[0m\u001b[0;34m\u001b[0m\u001b[0m\n\u001b[1;32m    167\u001b[0m \u001b[0;34m\u001b[0m\u001b[0m\n\u001b[0;32m--> 168\u001b[0;31m     \u001b[0mcdef_to_be_inlined\u001b[0m \u001b[0;34m=\u001b[0m \u001b[0mutils\u001b[0m\u001b[0;34m.\u001b[0m\u001b[0mget_class_def\u001b[0m\u001b[0;34m(\u001b[0m\u001b[0mc_to_be_inlined\u001b[0m\u001b[0;34m)\u001b[0m\u001b[0;34m\u001b[0m\u001b[0;34m\u001b[0m\u001b[0m\n\u001b[0m\u001b[1;32m    169\u001b[0m     \u001b[0mfdef_dest\u001b[0m \u001b[0;34m=\u001b[0m \u001b[0mutils\u001b[0m\u001b[0;34m.\u001b[0m\u001b[0mget_function_def\u001b[0m\u001b[0;34m(\u001b[0m\u001b[0mf_dest\u001b[0m\u001b[0;34m)\u001b[0m\u001b[0;34m\u001b[0m\u001b[0;34m\u001b[0m\u001b[0m\n\u001b[1;32m    170\u001b[0m \u001b[0;34m\u001b[0m\u001b[0m\n",
      "\u001b[0;32m~/Dev/pygamehop/gamehop/utils.py\u001b[0m in \u001b[0;36mget_class_def\u001b[0;34m(c)\u001b[0m\n\u001b[1;32m    188\u001b[0m     \u001b[0;32mif\u001b[0m \u001b[0misinstance\u001b[0m\u001b[0;34m(\u001b[0m\u001b[0mc\u001b[0m\u001b[0;34m,\u001b[0m \u001b[0mstr\u001b[0m\u001b[0;34m)\u001b[0m\u001b[0;34m:\u001b[0m \u001b[0mt\u001b[0m \u001b[0;34m=\u001b[0m \u001b[0mast\u001b[0m\u001b[0;34m.\u001b[0m\u001b[0mparse\u001b[0m\u001b[0;34m(\u001b[0m\u001b[0mremove_indentation\u001b[0m\u001b[0;34m(\u001b[0m\u001b[0mc\u001b[0m\u001b[0;34m)\u001b[0m\u001b[0;34m)\u001b[0m\u001b[0;34m\u001b[0m\u001b[0;34m\u001b[0m\u001b[0m\n\u001b[1;32m    189\u001b[0m     \u001b[0;32melif\u001b[0m \u001b[0misinstance\u001b[0m\u001b[0;34m(\u001b[0m\u001b[0mc\u001b[0m\u001b[0;34m,\u001b[0m \u001b[0mast\u001b[0m\u001b[0;34m.\u001b[0m\u001b[0mClassDef\u001b[0m\u001b[0;34m)\u001b[0m\u001b[0;34m:\u001b[0m \u001b[0;32mreturn\u001b[0m \u001b[0mcopy\u001b[0m\u001b[0;34m.\u001b[0m\u001b[0mdeepcopy\u001b[0m\u001b[0;34m(\u001b[0m\u001b[0mc\u001b[0m\u001b[0;34m)\u001b[0m\u001b[0;34m\u001b[0m\u001b[0;34m\u001b[0m\u001b[0m\n\u001b[0;32m--> 190\u001b[0;31m     \u001b[0;32melif\u001b[0m \u001b[0minspect\u001b[0m\u001b[0;34m.\u001b[0m\u001b[0misclass\u001b[0m\u001b[0;34m(\u001b[0m\u001b[0mc\u001b[0m\u001b[0;34m)\u001b[0m\u001b[0;34m:\u001b[0m \u001b[0mt\u001b[0m \u001b[0;34m=\u001b[0m \u001b[0mast\u001b[0m\u001b[0;34m.\u001b[0m\u001b[0mparse\u001b[0m\u001b[0;34m(\u001b[0m\u001b[0mremove_indentation\u001b[0m\u001b[0;34m(\u001b[0m\u001b[0minspect\u001b[0m\u001b[0;34m.\u001b[0m\u001b[0mgetsource\u001b[0m\u001b[0;34m(\u001b[0m\u001b[0mc\u001b[0m\u001b[0;34m)\u001b[0m\u001b[0;34m)\u001b[0m\u001b[0;34m)\u001b[0m\u001b[0;34m\u001b[0m\u001b[0;34m\u001b[0m\u001b[0m\n\u001b[0m\u001b[1;32m    191\u001b[0m     \u001b[0;32melse\u001b[0m\u001b[0;34m:\u001b[0m \u001b[0;32mraise\u001b[0m \u001b[0mTypeError\u001b[0m\u001b[0;34m(\u001b[0m\u001b[0;34m\"Cannot handle classes provided as {:s}\"\u001b[0m\u001b[0;34m.\u001b[0m\u001b[0mformat\u001b[0m\u001b[0;34m(\u001b[0m\u001b[0mtype\u001b[0m\u001b[0;34m(\u001b[0m\u001b[0mc\u001b[0m\u001b[0;34m)\u001b[0m\u001b[0;34m.\u001b[0m\u001b[0m__name__\u001b[0m\u001b[0;34m)\u001b[0m\u001b[0;34m)\u001b[0m\u001b[0;34m\u001b[0m\u001b[0;34m\u001b[0m\u001b[0m\n\u001b[1;32m    192\u001b[0m     \u001b[0;31m# get the class definition\u001b[0m\u001b[0;34m\u001b[0m\u001b[0;34m\u001b[0m\u001b[0;34m\u001b[0m\u001b[0m\n",
      "\u001b[0;32m/usr/local/Cellar/python@3.9/3.9.5/Frameworks/Python.framework/Versions/3.9/lib/python3.9/inspect.py\u001b[0m in \u001b[0;36mgetsource\u001b[0;34m(object)\u001b[0m\n\u001b[1;32m   1022\u001b[0m     \u001b[0;32mor\u001b[0m \u001b[0mcode\u001b[0m \u001b[0mobject\u001b[0m\u001b[0;34m.\u001b[0m  \u001b[0mThe\u001b[0m \u001b[0msource\u001b[0m \u001b[0mcode\u001b[0m \u001b[0;32mis\u001b[0m \u001b[0mreturned\u001b[0m \u001b[0;32mas\u001b[0m \u001b[0ma\u001b[0m \u001b[0msingle\u001b[0m \u001b[0mstring\u001b[0m\u001b[0;34m.\u001b[0m  \u001b[0mAn\u001b[0m\u001b[0;34m\u001b[0m\u001b[0;34m\u001b[0m\u001b[0m\n\u001b[1;32m   1023\u001b[0m     OSError is raised if the source code cannot be retrieved.\"\"\"\n\u001b[0;32m-> 1024\u001b[0;31m     \u001b[0mlines\u001b[0m\u001b[0;34m,\u001b[0m \u001b[0mlnum\u001b[0m \u001b[0;34m=\u001b[0m \u001b[0mgetsourcelines\u001b[0m\u001b[0;34m(\u001b[0m\u001b[0mobject\u001b[0m\u001b[0;34m)\u001b[0m\u001b[0;34m\u001b[0m\u001b[0;34m\u001b[0m\u001b[0m\n\u001b[0m\u001b[1;32m   1025\u001b[0m     \u001b[0;32mreturn\u001b[0m \u001b[0;34m''\u001b[0m\u001b[0;34m.\u001b[0m\u001b[0mjoin\u001b[0m\u001b[0;34m(\u001b[0m\u001b[0mlines\u001b[0m\u001b[0;34m)\u001b[0m\u001b[0;34m\u001b[0m\u001b[0;34m\u001b[0m\u001b[0m\n\u001b[1;32m   1026\u001b[0m \u001b[0;34m\u001b[0m\u001b[0m\n",
      "\u001b[0;32m/usr/local/Cellar/python@3.9/3.9.5/Frameworks/Python.framework/Versions/3.9/lib/python3.9/inspect.py\u001b[0m in \u001b[0;36mgetsourcelines\u001b[0;34m(object)\u001b[0m\n\u001b[1;32m   1004\u001b[0m     raised if the source code cannot be retrieved.\"\"\"\n\u001b[1;32m   1005\u001b[0m     \u001b[0mobject\u001b[0m \u001b[0;34m=\u001b[0m \u001b[0munwrap\u001b[0m\u001b[0;34m(\u001b[0m\u001b[0mobject\u001b[0m\u001b[0;34m)\u001b[0m\u001b[0;34m\u001b[0m\u001b[0;34m\u001b[0m\u001b[0m\n\u001b[0;32m-> 1006\u001b[0;31m     \u001b[0mlines\u001b[0m\u001b[0;34m,\u001b[0m \u001b[0mlnum\u001b[0m \u001b[0;34m=\u001b[0m \u001b[0mfindsource\u001b[0m\u001b[0;34m(\u001b[0m\u001b[0mobject\u001b[0m\u001b[0;34m)\u001b[0m\u001b[0;34m\u001b[0m\u001b[0;34m\u001b[0m\u001b[0m\n\u001b[0m\u001b[1;32m   1007\u001b[0m \u001b[0;34m\u001b[0m\u001b[0m\n\u001b[1;32m   1008\u001b[0m     \u001b[0;32mif\u001b[0m \u001b[0mistraceback\u001b[0m\u001b[0;34m(\u001b[0m\u001b[0mobject\u001b[0m\u001b[0;34m)\u001b[0m\u001b[0;34m:\u001b[0m\u001b[0;34m\u001b[0m\u001b[0;34m\u001b[0m\u001b[0m\n",
      "\u001b[0;32m/usr/local/Cellar/python@3.9/3.9.5/Frameworks/Python.framework/Versions/3.9/lib/python3.9/inspect.py\u001b[0m in \u001b[0;36mfindsource\u001b[0;34m(object)\u001b[0m\n\u001b[1;32m    815\u001b[0m     is raised if the source code cannot be retrieved.\"\"\"\n\u001b[1;32m    816\u001b[0m \u001b[0;34m\u001b[0m\u001b[0m\n\u001b[0;32m--> 817\u001b[0;31m     \u001b[0mfile\u001b[0m \u001b[0;34m=\u001b[0m \u001b[0mgetsourcefile\u001b[0m\u001b[0;34m(\u001b[0m\u001b[0mobject\u001b[0m\u001b[0;34m)\u001b[0m\u001b[0;34m\u001b[0m\u001b[0;34m\u001b[0m\u001b[0m\n\u001b[0m\u001b[1;32m    818\u001b[0m     \u001b[0;32mif\u001b[0m \u001b[0mfile\u001b[0m\u001b[0;34m:\u001b[0m\u001b[0;34m\u001b[0m\u001b[0;34m\u001b[0m\u001b[0m\n\u001b[1;32m    819\u001b[0m         \u001b[0;31m# Invalidate cache if needed.\u001b[0m\u001b[0;34m\u001b[0m\u001b[0;34m\u001b[0m\u001b[0;34m\u001b[0m\u001b[0m\n",
      "\u001b[0;32m/usr/local/Cellar/python@3.9/3.9.5/Frameworks/Python.framework/Versions/3.9/lib/python3.9/inspect.py\u001b[0m in \u001b[0;36mgetsourcefile\u001b[0;34m(object)\u001b[0m\n\u001b[1;32m    695\u001b[0m     \u001b[0mReturn\u001b[0m \u001b[0;32mNone\u001b[0m \u001b[0;32mif\u001b[0m \u001b[0mno\u001b[0m \u001b[0mway\u001b[0m \u001b[0mcan\u001b[0m \u001b[0mbe\u001b[0m \u001b[0midentified\u001b[0m \u001b[0mto\u001b[0m \u001b[0mget\u001b[0m \u001b[0mthe\u001b[0m \u001b[0msource\u001b[0m\u001b[0;34m.\u001b[0m\u001b[0;34m\u001b[0m\u001b[0;34m\u001b[0m\u001b[0m\n\u001b[1;32m    696\u001b[0m     \"\"\"\n\u001b[0;32m--> 697\u001b[0;31m     \u001b[0mfilename\u001b[0m \u001b[0;34m=\u001b[0m \u001b[0mgetfile\u001b[0m\u001b[0;34m(\u001b[0m\u001b[0mobject\u001b[0m\u001b[0;34m)\u001b[0m\u001b[0;34m\u001b[0m\u001b[0;34m\u001b[0m\u001b[0m\n\u001b[0m\u001b[1;32m    698\u001b[0m     \u001b[0mall_bytecode_suffixes\u001b[0m \u001b[0;34m=\u001b[0m \u001b[0mimportlib\u001b[0m\u001b[0;34m.\u001b[0m\u001b[0mmachinery\u001b[0m\u001b[0;34m.\u001b[0m\u001b[0mDEBUG_BYTECODE_SUFFIXES\u001b[0m\u001b[0;34m[\u001b[0m\u001b[0;34m:\u001b[0m\u001b[0;34m]\u001b[0m\u001b[0;34m\u001b[0m\u001b[0;34m\u001b[0m\u001b[0m\n\u001b[1;32m    699\u001b[0m     \u001b[0mall_bytecode_suffixes\u001b[0m \u001b[0;34m+=\u001b[0m \u001b[0mimportlib\u001b[0m\u001b[0;34m.\u001b[0m\u001b[0mmachinery\u001b[0m\u001b[0;34m.\u001b[0m\u001b[0mOPTIMIZED_BYTECODE_SUFFIXES\u001b[0m\u001b[0;34m[\u001b[0m\u001b[0;34m:\u001b[0m\u001b[0;34m]\u001b[0m\u001b[0;34m\u001b[0m\u001b[0;34m\u001b[0m\u001b[0m\n",
      "\u001b[0;32m/usr/local/Cellar/python@3.9/3.9.5/Frameworks/Python.framework/Versions/3.9/lib/python3.9/inspect.py\u001b[0m in \u001b[0;36mgetfile\u001b[0;34m(object)\u001b[0m\n\u001b[1;32m    664\u001b[0m             \u001b[0;32mif\u001b[0m \u001b[0mgetattr\u001b[0m\u001b[0;34m(\u001b[0m\u001b[0mmodule\u001b[0m\u001b[0;34m,\u001b[0m \u001b[0;34m'__file__'\u001b[0m\u001b[0;34m,\u001b[0m \u001b[0;32mNone\u001b[0m\u001b[0;34m)\u001b[0m\u001b[0;34m:\u001b[0m\u001b[0;34m\u001b[0m\u001b[0;34m\u001b[0m\u001b[0m\n\u001b[1;32m    665\u001b[0m                 \u001b[0;32mreturn\u001b[0m \u001b[0mmodule\u001b[0m\u001b[0;34m.\u001b[0m\u001b[0m__file__\u001b[0m\u001b[0;34m\u001b[0m\u001b[0;34m\u001b[0m\u001b[0m\n\u001b[0;32m--> 666\u001b[0;31m         \u001b[0;32mraise\u001b[0m \u001b[0mTypeError\u001b[0m\u001b[0;34m(\u001b[0m\u001b[0;34m'{!r} is a built-in class'\u001b[0m\u001b[0;34m.\u001b[0m\u001b[0mformat\u001b[0m\u001b[0;34m(\u001b[0m\u001b[0mobject\u001b[0m\u001b[0;34m)\u001b[0m\u001b[0;34m)\u001b[0m\u001b[0;34m\u001b[0m\u001b[0;34m\u001b[0m\u001b[0m\n\u001b[0m\u001b[1;32m    667\u001b[0m     \u001b[0;32mif\u001b[0m \u001b[0mismethod\u001b[0m\u001b[0;34m(\u001b[0m\u001b[0mobject\u001b[0m\u001b[0;34m)\u001b[0m\u001b[0;34m:\u001b[0m\u001b[0;34m\u001b[0m\u001b[0;34m\u001b[0m\u001b[0m\n\u001b[1;32m    668\u001b[0m         \u001b[0mobject\u001b[0m \u001b[0;34m=\u001b[0m \u001b[0mobject\u001b[0m\u001b[0;34m.\u001b[0m\u001b[0m__func__\u001b[0m\u001b[0;34m\u001b[0m\u001b[0;34m\u001b[0m\u001b[0m\n",
      "\u001b[0;31mTypeError\u001b[0m: <class '__main__.NestedPKE'> is a built-in class"
     ]
    }
   ],
   "source": [
    "g0 = gamehop.inlining.inline_scheme_into_game(NestedPKE, PKE.INDCPA.get_left())\n",
    "print(g0)\n",
    "print(gamehop.verification.canonicalize_game(g0))"
   ]
  }
 ],
 "metadata": {
  "kernelspec": {
   "display_name": "Python 3",
   "language": "python",
   "name": "python3"
  },
  "language_info": {
   "codemirror_mode": {
    "name": "ipython",
    "version": 3
   },
   "file_extension": ".py",
   "mimetype": "text/x-python",
   "name": "python",
   "nbconvert_exporter": "python",
   "pygments_lexer": "ipython3",
   "version": "3.9.5"
  }
 },
 "nbformat": 4,
 "nbformat_minor": 5
}
